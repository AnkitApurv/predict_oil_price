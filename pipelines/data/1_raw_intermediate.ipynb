{
 "cells": [
  {
   "cell_type": "code",
   "execution_count": 1,
   "metadata": {},
   "outputs": [],
   "source": [
    "import pathlib\n",
    "\n",
    "import numpy\n",
    "import pandas"
   ]
  },
  {
   "cell_type": "code",
   "execution_count": 3,
   "metadata": {},
   "outputs": [],
   "source": [
    "def aggregate_function(x: list[float]) -> float:\n",
    "    x = list(set(x))\n",
    "    return x[0]"
   ]
  },
  {
   "cell_type": "code",
   "execution_count": 2,
   "metadata": {},
   "outputs": [],
   "source": [
    "raw_data_path = pathlib.Path(\"../../data/1_raw/\")\n",
    "intermediate_data_path = pathlib.Path(\"../../data/2_intermediate/\")"
   ]
  },
  {
   "cell_type": "code",
   "execution_count": 4,
   "metadata": {},
   "outputs": [],
   "source": [
    "df_opec_asb_t43_raw = pandas.read_excel(\n",
    "    io=raw_data_path / pathlib.Path(\"ASB2023_selected/T43.xlsx\"),\n",
    "    sheet_name=\"Table 4.3\",\n",
    "    header=2,\n",
    "    skipfooter=10,\n",
    ")"
   ]
  },
  {
   "cell_type": "code",
   "execution_count": 9,
   "metadata": {},
   "outputs": [],
   "source": [
    "id_vars = numpy.array([\"Unnamed: 0\"])\n",
    "value_vars = numpy.array(df_opec_asb_t43_raw.columns)\n",
    "value_vars = numpy.setdiff1d(value_vars, id_vars, assume_unique=True)\n",
    "\n",
    "df_opec_asb_t43_intermediate = (\n",
    "    df_opec_asb_t43_raw.melt(id_vars=id_vars, value_vars=value_vars)\n",
    "    .pivot_table(\n",
    "        columns=[\"Unnamed: 0\"],\n",
    "        index=[\"variable\"],\n",
    "        values=\"value\",\n",
    "        aggfunc=aggregate_function,\n",
    "    )\n",
    "    .reset_index()\n",
    "    .rename(columns={\"variable\": \"Time\"})\n",
    ")\n",
    "\n",
    "df_opec_asb_t43_intermediate.columns.name = (\n",
    "    \"World_refinery_throughput_by_country_(1,000_b/d)\"\n",
    ")"
   ]
  },
  {
   "cell_type": "code",
   "execution_count": 12,
   "metadata": {},
   "outputs": [],
   "source": [
    "df_opec_asb_t43_intermediate.to_parquet(\n",
    "    path=intermediate_data_path / pathlib.Path(\"ASB2023_selected/T43.parquet\"),\n",
    "    index=True,\n",
    ")"
   ]
  },
  {
   "cell_type": "code",
   "execution_count": null,
   "metadata": {},
   "outputs": [],
   "source": [
    "df_opec_asb_t43 = pandas.read_excel(\n",
    "    io=raw_data_path / pathlib.Path(\"ASB2023_selected/T45.xlsx\"),\n",
    "    sheet_name=\"Table 4.5\",\n",
    "    header=2,\n",
    "    skipfooter=10,\n",
    ")"
   ]
  }
 ],
 "metadata": {
  "kernelspec": {
   "display_name": "env-predict_oil_price",
   "language": "python",
   "name": "python3"
  },
  "language_info": {
   "codemirror_mode": {
    "name": "ipython",
    "version": 3
   },
   "file_extension": ".py",
   "mimetype": "text/x-python",
   "name": "python",
   "nbconvert_exporter": "python",
   "pygments_lexer": "ipython3",
   "version": "3.12.2"
  }
 },
 "nbformat": 4,
 "nbformat_minor": 2
}
